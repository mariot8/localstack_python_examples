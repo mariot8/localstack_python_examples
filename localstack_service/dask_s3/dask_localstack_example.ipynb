{
 "cells": [
  {
   "cell_type": "code",
   "execution_count": 1,
   "metadata": {},
   "outputs": [],
   "source": [
    "import math\n",
    "import os\n",
    "import dask.dataframe as dd\n",
    "import numpy as np\n",
    "import pandas as pd\n",
    "\n",
    "from dask.distributed import Client"
   ]
  },
  {
   "cell_type": "code",
   "execution_count": 2,
   "metadata": {},
   "outputs": [
    {
     "name": "stderr",
     "output_type": "stream",
     "text": [
      "/opt/conda/lib/python3.8/site-packages/distributed/client.py:1122: VersionMismatchWarning: Mismatched versions found\n",
      "\n",
      "+---------+--------+-----------+---------+\n",
      "| Package | client | scheduler | workers |\n",
      "+---------+--------+-----------+---------+\n",
      "| blosc   | 1.9.1  | 1.7.0     | 1.7.0   |\n",
      "+---------+--------+-----------+---------+\n",
      "  warnings.warn(version_module.VersionMismatchWarning(msg[0][\"warning\"]))\n"
     ]
    }
   ],
   "source": [
    "client = Client('tcp://scheduler:8786')"
   ]
  },
  {
   "cell_type": "code",
   "execution_count": 3,
   "metadata": {},
   "outputs": [
    {
     "data": {
      "text/html": [
       "<table style=\"border: 2px solid white;\">\n",
       "<tr>\n",
       "<td style=\"vertical-align: top; border: 0px solid white\">\n",
       "<h3 style=\"text-align: left;\">Client</h3>\n",
       "<ul style=\"text-align: left; list-style: none; margin: 0; padding: 0;\">\n",
       "  <li><b>Scheduler: </b>tcp://scheduler:8786</li>\n",
       "  <li><b>Dashboard: </b><a href='http://scheduler:8787/status' target='_blank'>http://scheduler:8787/status</a></li>\n",
       "</ul>\n",
       "</td>\n",
       "<td style=\"vertical-align: top; border: 0px solid white\">\n",
       "<h3 style=\"text-align: left;\">Cluster</h3>\n",
       "<ul style=\"text-align: left; list-style:none; margin: 0; padding: 0;\">\n",
       "  <li><b>Workers: </b>4</li>\n",
       "  <li><b>Cores: </b>16</li>\n",
       "  <li><b>Memory: </b>8.35 GB</li>\n",
       "</ul>\n",
       "</td>\n",
       "</tr>\n",
       "</table>"
      ],
      "text/plain": [
       "<Client: 'tcp://172.28.0.5:8786' processes=4 threads=16, memory=8.35 GB>"
      ]
     },
     "execution_count": 3,
     "metadata": {},
     "output_type": "execute_result"
    }
   ],
   "source": [
    "client"
   ]
  },
  {
   "cell_type": "code",
   "execution_count": null,
   "metadata": {},
   "outputs": [],
   "source": [
    "os.environ['LOCALSTACK_S3_ENDPOINT_URL'] = 'http://localstack:4572'\n",
    "os.environ['AWS_ACCESS_KEY_ID'] = 'foo'\n",
    "os.environ['AWS_SECRET_ACCESS_KEY'] = 'bar'\n",
    "os.environ['AWS_DEFAULT_REGION'] = 'us-east-1'"
   ]
  },
  {
   "cell_type": "code",
   "execution_count": null,
   "metadata": {},
   "outputs": [],
   "source": []
  },
  {
   "cell_type": "code",
   "execution_count": 4,
   "metadata": {},
   "outputs": [],
   "source": [
    "def roundup(x, base: int = 5):\n",
    "    \"\"\"Round `x` up to nearest `base`\"\"\"\n",
    "    return int(math.ceil(x / float(base))) * base"
   ]
  },
  {
   "cell_type": "code",
   "execution_count": null,
   "metadata": {},
   "outputs": [],
   "source": []
  },
  {
   "cell_type": "code",
   "execution_count": 5,
   "metadata": {},
   "outputs": [],
   "source": [
    "def round_series_up(s: dd.Series) -> dd.Series:\n",
    "    \"\"\"Apply roundup function to all elements of `s`\"\"\"\n",
    "    return s.apply(roundup, meta=pd.Series(data=[], dtype=np.float32))"
   ]
  },
  {
   "cell_type": "code",
   "execution_count": 6,
   "metadata": {},
   "outputs": [],
   "source": [
    "def transform_dask_dataframe(df: dd.DataFrame) -> dd.DataFrame:\n",
    "    \"\"\"Process NYC taxi data\"\"\"\n",
    "    return (\n",
    "        df[[\n",
    "            'tpep_pickup_datetime', 'tpep_dropoff_datetime',\n",
    "            'trip_distance', 'total_amount'\n",
    "        ]]\n",
    "        .astype({\n",
    "            'tpep_pickup_datetime': 'datetime64[ms]',\n",
    "            'tpep_dropoff_datetime': 'datetime64[ms]'\n",
    "        })\n",
    "        .assign(drive_time=(lambda df: (df.tpep_dropoff_datetime - df.tpep_pickup_datetime).dt.seconds // 300))\n",
    "        .assign(drive_time=lambda df: round_series_up(df.drive_time))\n",
    "        .assign(trip_distance=lambda df: round_series_up(df.trip_distance))\n",
    "        .query('drive_time <= 120 & trip_distance <= 50')\n",
    "        .drop(['tpep_pickup_datetime', 'tpep_dropoff_datetime'], axis=1)\n",
    "        .round({'trip_distance': 0})\n",
    "        .groupby(['drive_time', 'trip_distance'])\n",
    "        .mean()\n",
    "        .rename(columns={'total_amount': 'avg_amount'})\n",
    "    )"
   ]
  },
  {
   "cell_type": "code",
   "execution_count": 7,
   "metadata": {},
   "outputs": [],
   "source": [
    "def compute_final_dataframe(df: dd.DataFrame) -> pd.DataFrame:\n",
    "    \"\"\"Execute dask task graph and compute final results\"\"\"\n",
    "    return (\n",
    "        df\n",
    "        .compute()\n",
    "        .reset_index()\n",
    "        .pivot(\n",
    "             index='drive_time',\n",
    "             columns='trip_distance',\n",
    "             values='avg_amount'\n",
    "        )\n",
    "        .fillna(0)\n",
    "    )"
   ]
  },
  {
   "cell_type": "code",
   "execution_count": 8,
   "metadata": {},
   "outputs": [],
   "source": [
    "def run():\n",
    "\n",
    "    # Lets toggle localstack by changing where boto3 is pointing to\n",
    "    if os.environ.get('LOCALSTACK_S3_ENDPOINT_URL'):\n",
    "        taxi_data = dd.read_csv( 's3://nyc-tlc/trip data/yellow_tripdata_2018-04.csv',\n",
    "            storage_options={\n",
    "                'anon': False,\n",
    "                'use_ssl': False,\n",
    "                'key': 'foo',\n",
    "                'secret': 'bar',\n",
    "                \"client_kwargs\": {\n",
    "                    \"endpoint_url\": \"http://localstack:4572\",\n",
    "                    \"region_name\": \"us-east-1\"\n",
    "                }\n",
    "            }\n",
    "        )\n",
    "    else:\n",
    "        # This assumes your using named profiles in aws cli with a default profile accessing your s3 bucket or EC2\n",
    "        # instance or ECS task role\n",
    "        taxi_data = dd.read_csv('s3://nyc-tlc/trip data/yellow_tripdata_2018-04.csv')\n",
    "\n",
    "    taxi_data = transform_dask_dataframe(taxi_data)\n",
    "\n",
    "    taxi_data = compute_final_dataframe(taxi_data)\n",
    "\n",
    "    print(taxi_data)"
   ]
  },
  {
   "cell_type": "code",
   "execution_count": null,
   "metadata": {},
   "outputs": [],
   "source": []
  }
 ],
 "metadata": {
  "kernelspec": {
   "display_name": "Python 3",
   "language": "python",
   "name": "python3"
  },
  "language_info": {
   "codemirror_mode": {
    "name": "ipython",
    "version": 3
   },
   "file_extension": ".py",
   "mimetype": "text/x-python",
   "name": "python",
   "nbconvert_exporter": "python",
   "pygments_lexer": "ipython3",
   "version": "3.8.3"
  }
 },
 "nbformat": 4,
 "nbformat_minor": 4
}
